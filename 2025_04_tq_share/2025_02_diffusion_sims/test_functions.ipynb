{
 "cells": [
  {
   "cell_type": "code",
   "execution_count": 3,
   "id": "8dbd9399",
   "metadata": {},
   "outputs": [
    {
     "name": "stdout",
     "output_type": "stream",
     "text": [
      "Seed= 525803008\n"
     ]
    }
   ],
   "source": [
    "import sys, os, glob\n",
    "import datetime, time\n",
    "\n",
    "import numpy as np\n",
    "from numpy import linalg as nla\n",
    "from numpy.random import default_rng\n",
    "\n",
    "import matplotlib.pyplot as plt\n",
    "\n",
    "gen_fns_dir = os.path.abspath('../shared')\n",
    "sys.path.append(gen_fns_dir)\n",
    "\n",
    "import ring_net_fns as rnf\n",
    "import angle_fns_new as af\n",
    "\n",
    "%matplotlib inline\n",
    "\n",
    "curr_seed=int((time.time()%1)*(2**31))\n",
    "print('Seed= {}'.format(curr_seed))\n",
    "rng = default_rng(seed=curr_seed)\n",
    "\n",
    "curr_date=datetime.datetime.now().strftime('%Y_%m_%d')+'_'"
   ]
  },
  {
   "cell_type": "code",
   "execution_count": 24,
   "id": "ab5ad2df",
   "metadata": {},
   "outputs": [
    {
     "name": "stdout",
     "output_type": "stream",
     "text": [
      "-4.999524187106217 4.99975543267945\n",
      "396.51024360125837 True\n"
     ]
    }
   ],
   "source": [
    "N = 50000\n",
    "rand_nums1 = 10*(rng.random(N) - 0.5)\n",
    "rand_nums2 = 10*(rng.random(N) - 0.5)\n",
    "print(np.min(rand_nums1), np.max(rand_nums1))\n",
    "\n",
    "ang_diff_1 = af.periodic_diff(rand_nums1, rand_nums2)\n",
    "ang_diff_2 = af.angular_diff(rand_nums1, rand_nums2)\n",
    "print(nla.norm(ang_diff_1), np.allclose(ang_diff_1, ang_diff_2))"
   ]
  },
  {
   "cell_type": "code",
   "execution_count": null,
   "id": "8fcd2c2e",
   "metadata": {},
   "outputs": [],
   "source": []
  }
 ],
 "metadata": {
  "kernelspec": {
   "display_name": "Python 3 (ipykernel)",
   "language": "python",
   "name": "python3"
  },
  "language_info": {
   "codemirror_mode": {
    "name": "ipython",
    "version": 3
   },
   "file_extension": ".py",
   "mimetype": "text/x-python",
   "name": "python",
   "nbconvert_exporter": "python",
   "pygments_lexer": "ipython3",
   "version": "3.11.5"
  }
 },
 "nbformat": 4,
 "nbformat_minor": 5
}
